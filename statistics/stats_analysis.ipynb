{
 "cells": [
  {
   "cell_type": "markdown",
   "metadata": {},
   "source": [
    "# Statistiques"
   ]
  },
  {
   "cell_type": "code",
   "execution_count": 1,
   "metadata": {},
   "outputs": [],
   "source": [
    "import pickle as pkl"
   ]
  },
  {
   "cell_type": "code",
   "execution_count": 2,
   "metadata": {},
   "outputs": [],
   "source": [
    "with open(\"stats.pkl\", \"rb\") as f:\n",
    "    stats = pkl.load(f)"
   ]
  },
  {
   "cell_type": "markdown",
   "metadata": {},
   "source": [
    "## Nombre de bits\n",
    "\n",
    "Une première idée est de compter le nombre de bits. En effet, on aimerait qu'un générateur de nombres pseudo-aléatoire envoie à peu près autant de \"0\" que de \"1\"."
   ]
  },
  {
   "cell_type": "code",
   "execution_count": 3,
   "metadata": {},
   "outputs": [
    {
     "name": "stdout",
     "output_type": "stream",
     "text": [
      "0.4999715625\n"
     ]
    }
   ],
   "source": [
    "bit_stats = [\"{:08b}\".format(el) for el in stats]\n",
    "big_string = \"\".join(bit_stats)\n",
    "number_of_0 = big_string.count(\"0\")\n",
    "print(number_of_0/len(big_string))"
   ]
  },
  {
   "cell_type": "markdown",
   "metadata": {},
   "source": [
    "On est presque à 50% sur 10000000 de nombres générés (soit 80000000 de bits) - c'est donc bon signe.\n",
    "\n",
    "# Transformée de Fourier"
   ]
  },
  {
   "cell_type": "code",
   "execution_count": 7,
   "metadata": {},
   "outputs": [],
   "source": [
    "import numpy\n",
    "import scipy.fft\n",
    "import scipy.special\n",
    "def spectral(bin_data: str):\n",
    "    \"\"\"\n",
    "    Note that this description is taken from the NIST documentation [1]\n",
    "    [1] http://csrc.nist.gov/publications/nistpubs/800-22-rev1a/SP800-22rev1a.pdf\n",
    "    The focus of this test is the peak heights in the Discrete Fourier Transform of the sequence. The purpose of\n",
    "    this test is to detect periodic features (i.e., repetitive patterns that are near each other) in the tested\n",
    "    sequence that would indicate a deviation from the assumption of randomness. The intention is to detect whether\n",
    "    the number of peaks exceeding the 95 % threshold is significantly different than 5 %.\n",
    "    :param bin_data: a binary string\n",
    "    :return: the p-value from the test\n",
    "    \"\"\"\n",
    "    n = len(bin_data)\n",
    "    plus_minus_one = []\n",
    "    for char in bin_data:\n",
    "        if char == '0':\n",
    "            plus_minus_one.append(-1)\n",
    "        elif char == '1':\n",
    "            plus_minus_one.append(1)\n",
    "    # Product discrete fourier transform of plus minus one\n",
    "    s = scipy.fft.fft(plus_minus_one)\n",
    "    half_len = n // 2\n",
    "    modulus = numpy.abs(s[0:half_len])\n",
    "    tau = numpy.sqrt(numpy.log(1 / 0.05) * n)\n",
    "    # Theoretical number of peaks\n",
    "    count_n0 = 0.95 * (n / 2)\n",
    "    # Count the number of actual peaks m > T\n",
    "    count_n1 = len(numpy.where(modulus < tau)[0])\n",
    "    # Calculate d and return the p value statistic\n",
    "    d = (count_n1 - count_n0) / numpy.sqrt(n * 0.95 * 0.05 / 4)\n",
    "    p_val = scipy.special.erfc(abs(d) / numpy.sqrt(2))\n",
    "    return p_val"
   ]
  },
  {
   "cell_type": "code",
   "execution_count": 8,
   "metadata": {},
   "outputs": [
    {
     "ename": "TypeError",
     "evalue": "slice indices must be integers or None or have an __index__ method",
     "output_type": "error",
     "traceback": [
      "\u001b[1;31m---------------------------------------------------------------------------\u001b[0m",
      "\u001b[1;31mTypeError\u001b[0m                                 Traceback (most recent call last)",
      "\u001b[1;32mc:\\Users\\Admin\\Desktop\\CRYPTA_Project\\statistics\\stats_analysis.ipynb Cellule 8\u001b[0m in \u001b[0;36m<cell line: 1>\u001b[1;34m()\u001b[0m\n\u001b[1;32m----> <a href='vscode-notebook-cell:/c%3A/Users/Admin/Desktop/CRYPTA_Project/statistics/stats_analysis.ipynb#X21sZmlsZQ%3D%3D?line=0'>1</a>\u001b[0m spectral(big_string)\n",
      "\u001b[1;32mc:\\Users\\Admin\\Desktop\\CRYPTA_Project\\statistics\\stats_analysis.ipynb Cellule 8\u001b[0m in \u001b[0;36mspectral\u001b[1;34m(bin_data)\u001b[0m\n\u001b[0;32m     <a href='vscode-notebook-cell:/c%3A/Users/Admin/Desktop/CRYPTA_Project/statistics/stats_analysis.ipynb#X21sZmlsZQ%3D%3D?line=22'>23</a>\u001b[0m s \u001b[39m=\u001b[39m scipy\u001b[39m.\u001b[39mfft\u001b[39m.\u001b[39mfft(plus_minus_one)\n\u001b[0;32m     <a href='vscode-notebook-cell:/c%3A/Users/Admin/Desktop/CRYPTA_Project/statistics/stats_analysis.ipynb#X21sZmlsZQ%3D%3D?line=23'>24</a>\u001b[0m half_len \u001b[39m=\u001b[39m n \u001b[39m/\u001b[39m \u001b[39m2\u001b[39m\n\u001b[1;32m---> <a href='vscode-notebook-cell:/c%3A/Users/Admin/Desktop/CRYPTA_Project/statistics/stats_analysis.ipynb#X21sZmlsZQ%3D%3D?line=24'>25</a>\u001b[0m modulus \u001b[39m=\u001b[39m numpy\u001b[39m.\u001b[39mabs(s[\u001b[39m0\u001b[39;49m:half_len])\n\u001b[0;32m     <a href='vscode-notebook-cell:/c%3A/Users/Admin/Desktop/CRYPTA_Project/statistics/stats_analysis.ipynb#X21sZmlsZQ%3D%3D?line=25'>26</a>\u001b[0m tau \u001b[39m=\u001b[39m numpy\u001b[39m.\u001b[39msqrt(numpy\u001b[39m.\u001b[39mlog(\u001b[39m1\u001b[39m \u001b[39m/\u001b[39m \u001b[39m0.05\u001b[39m) \u001b[39m*\u001b[39m n)\n\u001b[0;32m     <a href='vscode-notebook-cell:/c%3A/Users/Admin/Desktop/CRYPTA_Project/statistics/stats_analysis.ipynb#X21sZmlsZQ%3D%3D?line=26'>27</a>\u001b[0m \u001b[39m# Theoretical number of peaks\u001b[39;00m\n",
      "\u001b[1;31mTypeError\u001b[0m: slice indices must be integers or None or have an __index__ method"
     ]
    }
   ],
   "source": [
    "spectral(big_string)"
   ]
  }
 ],
 "metadata": {
  "kernelspec": {
   "display_name": "Python 3.10.5 64-bit",
   "language": "python",
   "name": "python3"
  },
  "language_info": {
   "codemirror_mode": {
    "name": "ipython",
    "version": 3
   },
   "file_extension": ".py",
   "mimetype": "text/x-python",
   "name": "python",
   "nbconvert_exporter": "python",
   "pygments_lexer": "ipython3",
   "version": "3.10.5"
  },
  "orig_nbformat": 4,
  "vscode": {
   "interpreter": {
    "hash": "a42ccb73e7d9bfdf27e036f1d2b8b681e55fc0743cc5586bc2474d4a60f4b886"
   }
  }
 },
 "nbformat": 4,
 "nbformat_minor": 2
}
