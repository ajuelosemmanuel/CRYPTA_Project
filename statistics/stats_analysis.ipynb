{
 "cells": [
  {
   "cell_type": "markdown",
   "metadata": {},
   "source": [
    "# Statistiques"
   ]
  },
  {
   "cell_type": "code",
   "execution_count": 1,
   "metadata": {},
   "outputs": [],
   "source": [
    "import pickle as pkl"
   ]
  },
  {
   "cell_type": "code",
   "execution_count": 2,
   "metadata": {},
   "outputs": [],
   "source": [
    "with open(\"stats.pkl\", \"rb\") as f:\n",
    "    stats = pkl.load(f)"
   ]
  },
  {
   "cell_type": "markdown",
   "metadata": {},
   "source": [
    "## Nombre de bits\n",
    "\n",
    "Une première idée est de compter le nombre de bits. En effet, on aimerait qu'un générateur de nombres pseudo-aléatoire envoie à peu près autant de \"0\" que de \"1\"."
   ]
  },
  {
   "cell_type": "code",
   "execution_count": 3,
   "metadata": {},
   "outputs": [
    {
     "name": "stdout",
     "output_type": "stream",
     "text": [
      "0.4999715625\n"
     ]
    }
   ],
   "source": [
    "bit_stats = [\"{:08b}\".format(el) for el in stats]\n",
    "big_string = \"\".join(bit_stats)\n",
    "number_of_0 = big_string.count(\"0\")\n",
    "print(number_of_0/len(big_string))"
   ]
  },
  {
   "cell_type": "markdown",
   "metadata": {},
   "source": [
    "On est presque à 50% sur 10000000 de nombres générés (soit 80000000 de bits) - c'est donc bon signe.\n",
    "\n",
    "## Transformée de Fourier"
   ]
  },
  {
   "cell_type": "code",
   "execution_count": 9,
   "metadata": {},
   "outputs": [],
   "source": [
    "import numpy\n",
    "import scipy.fft\n",
    "import scipy.special\n",
    "def spectral(bin_data: str):\n",
    "    \"\"\"\n",
    "    Note that this description is taken from the NIST documentation [1]\n",
    "    [1] http://csrc.nist.gov/publications/nistpubs/800-22-rev1a/SP800-22rev1a.pdf\n",
    "    The focus of this test is the peak heights in the Discrete Fourier Transform of the sequence. The purpose of\n",
    "    this test is to detect periodic features (i.e., repetitive patterns that are near each other) in the tested\n",
    "    sequence that would indicate a deviation from the assumption of randomness. The intention is to detect whether\n",
    "    the number of peaks exceeding the 95 % threshold is significantly different than 5 %.\n",
    "    :param bin_data: a binary string\n",
    "    :return: the p-value from the test\n",
    "    \"\"\"\n",
    "    n = len(bin_data)\n",
    "    plus_minus_one = []\n",
    "    for char in bin_data:\n",
    "        if char == '0':\n",
    "            plus_minus_one.append(-1)\n",
    "        elif char == '1':\n",
    "            plus_minus_one.append(1)\n",
    "    # Product discrete fourier transform of plus minus one\n",
    "    s = scipy.fft.fft(plus_minus_one)\n",
    "    half_len = n // 2\n",
    "    modulus = numpy.abs(s[0:half_len])\n",
    "    tau = numpy.sqrt(numpy.log(1 / 0.05) * n)\n",
    "    # Theoretical number of peaks\n",
    "    count_n0 = 0.95 * (n / 2)\n",
    "    # Count the number of actual peaks m > T\n",
    "    count_n1 = len(numpy.where(modulus < tau)[0])\n",
    "    # Calculate d and return the p value statistic\n",
    "    d = (count_n1 - count_n0) / numpy.sqrt(n * 0.95 * 0.05 / 4)\n",
    "    p_val = scipy.special.erfc(abs(d) / numpy.sqrt(2))\n",
    "    return p_val"
   ]
  },
  {
   "cell_type": "code",
   "execution_count": 10,
   "metadata": {},
   "outputs": [
    {
     "data": {
      "text/plain": [
       "0.8736478816189553"
      ]
     },
     "execution_count": 10,
     "metadata": {},
     "output_type": "execute_result"
    }
   ],
   "source": [
    "spectral(big_string)"
   ]
  }
 ],
 "metadata": {
  "kernelspec": {
   "display_name": "Python 3.10.5 64-bit",
   "language": "python",
   "name": "python3"
  },
  "language_info": {
   "codemirror_mode": {
    "name": "ipython",
    "version": 3
   },
   "file_extension": ".py",
   "mimetype": "text/x-python",
   "name": "python",
   "nbconvert_exporter": "python",
   "pygments_lexer": "ipython3",
   "version": "3.10.5"
  },
  "orig_nbformat": 4,
  "vscode": {
   "interpreter": {
    "hash": "a42ccb73e7d9bfdf27e036f1d2b8b681e55fc0743cc5586bc2474d4a60f4b886"
   }
  }
 },
 "nbformat": 4,
 "nbformat_minor": 2
}
